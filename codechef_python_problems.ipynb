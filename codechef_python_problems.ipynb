{
  "nbformat": 4,
  "nbformat_minor": 0,
  "metadata": {
    "colab": {
      "provenance": [],
      "collapsed_sections": [],
      "authorship_tag": "ABX9TyPRXbkWvhPu1ckQVolfpeJW",
      "include_colab_link": true
    },
    "kernelspec": {
      "name": "python3",
      "display_name": "Python 3"
    },
    "language_info": {
      "name": "python"
    }
  },
  "cells": [
    {
      "cell_type": "markdown",
      "metadata": {
        "id": "view-in-github",
        "colab_type": "text"
      },
      "source": [
        "<a href=\"https://colab.research.google.com/github/DigvijayPhutane/Codechef_python_problem_solving/blob/main/codechef_python_problems.ipynb\" target=\"_parent\"><img src=\"https://colab.research.google.com/assets/colab-badge.svg\" alt=\"Open In Colab\"/></a>"
      ]
    },
    {
      "cell_type": "markdown",
      "source": [
        "# CodeChef_Python_Coding problems "
      ],
      "metadata": {
        "id": "YURusAujbsxQ"
      }
    },
    {
      "cell_type": "code",
      "source": [
        "#Number of credits\n",
        "T = int(input())\n",
        "for i in range(T):\n",
        "    X,Y,Z = map(int,input().split(' '))\n",
        "    A = X * 4 \n",
        "    B = Y * 2 \n",
        "    C = Z * 0\n",
        "    print(A+B+C)"
      ],
      "metadata": {
        "id": "DPdgZ-7zAwfI"
      },
      "execution_count": null,
      "outputs": []
    },
    {
      "cell_type": "code",
      "source": [
        "#CAR Trip problem\n",
        "# cook your dish here\n",
        "T = int(input())\n",
        "for i in range(T):\n",
        "    x = int(input())\n",
        "    if(x<=300):\n",
        "        print(300*10)\n",
        "    else:\n",
        "        print(x*10)"
      ],
      "metadata": {
        "id": "-JIMWd3Ek9ne"
      },
      "execution_count": null,
      "outputs": []
    },
    {
      "cell_type": "code",
      "source": [
        "#Ticket Fine\n",
        "T = int(input())\n",
        "for i in range(T):\n",
        "    X,P,Q = map(int,input().split(' '))\n",
        "    W = P - Q\n",
        "    F = W*X \n",
        "    print(F)"
      ],
      "metadata": {
        "id": "QhtoG0xzYBk1"
      },
      "execution_count": null,
      "outputs": []
    },
    {
      "cell_type": "code",
      "source": [
        "#Car trip \n",
        "# cook your dish here\n",
        "T = int(input())\n",
        "for i in range(T):\n",
        "    x = int(input())\n",
        "    if(x<=300):\n",
        "        print(300*10)\n",
        "    else:\n",
        "        print(x*10)"
      ],
      "metadata": {
        "id": "iVy-lCz2YJOF"
      },
      "execution_count": null,
      "outputs": []
    },
    {
      "cell_type": "code",
      "source": [
        "#Greater Average\n",
        "# cook your dish here\n",
        "T = int(input())\n",
        "for i in range(T):\n",
        "    A,B,C  = map(int,input().split())\n",
        "    if ((A+B)/2> C):\n",
        "        print(\"YES\")\n",
        "    else:\n",
        "        print(\"NO\")"
      ],
      "metadata": {
        "id": "z_nttVZUYJPQ"
      },
      "execution_count": null,
      "outputs": []
    },
    {
      "cell_type": "code",
      "source": [
        "#Weights\n",
        "# cook your dish here\n",
        "\n",
        "T = int(input())\n",
        "for i in range(T):\n",
        "    W,X,Y,Z = map(int,input().split(' '))\n",
        "    if(W==X+Y or W==Y+Z or W==X+Z or W==X+Y+Z or W==X or W==Y or W==Z):\n",
        "        print(\"YES\")\n",
        "    else:\n",
        "        print(\"NO\")\n",
        "        "
      ],
      "metadata": {
        "id": "vJl-TdipYozq"
      },
      "execution_count": null,
      "outputs": []
    },
    {
      "cell_type": "code",
      "source": [
        "#add to numbers \n",
        "# You don't need to add/edit anything to the below solution. \n",
        "# Click on the SUBMIT button to solve your first problem on CodeChef.\n",
        "\n",
        "#Read the number of test cases.\n",
        "T = int(input())\n",
        "for i in range(T):\n",
        "\t# Read integers a and b.\n",
        "\t(a, b) = map(int, input().split(' '))\n",
        "\t\n",
        "\tans = a + b\n",
        "\tprint(ans)"
      ],
      "metadata": {
        "id": "U1TTWaRlYo0v"
      },
      "execution_count": null,
      "outputs": []
    },
    {
      "cell_type": "code",
      "source": [
        "#Age limit \n",
        "# cook your dish here\n",
        "t = int(input())\n",
        "for i in range(t):\n",
        "    X,Y,A = map(int,input().split(' '))\n",
        "    if(X<=A and Y>A):\n",
        "        print(\"YES\")\n",
        "    else:\n",
        "        print(\"NO\")"
      ],
      "metadata": {
        "id": "DAHIhtb5YvWn"
      },
      "execution_count": null,
      "outputs": []
    },
    {
      "cell_type": "code",
      "source": [
        "#Biryani Classes \n",
        "# cook your dish here\n",
        "\n",
        "T = int(input())\n",
        "for i in range(T):\n",
        "    X,Y = map(int,input().split(' '))\n",
        "    print(X*Y)      "
      ],
      "metadata": {
        "id": "8c12KhZyYvYQ"
      },
      "execution_count": null,
      "outputs": []
    },
    {
      "cell_type": "code",
      "source": [
        "#fitness\n",
        "# cook your dish here\n",
        "T = int(input())\n",
        "for i in range(T):\n",
        "    X = int(input())\n",
        "    print(X*2*5)"
      ],
      "metadata": {
        "id": "ydDXey8rYvZl"
      },
      "execution_count": null,
      "outputs": []
    },
    {
      "cell_type": "code",
      "source": [
        "#BURGERS\n",
        "# cook your dish here\n",
        "T = int(input())\n",
        "for i in range(T):\n",
        "    A,B = map(int,input().split())\n",
        "    print(min(A,B))"
      ],
      "metadata": {
        "id": "Q6B4klUVYvd5"
      },
      "execution_count": null,
      "outputs": []
    },
    {
      "cell_type": "code",
      "source": [
        "#HOW MANY UNATTEMPTED PROBLEMS\n",
        "# cook your dish here\n",
        "X,Y = map(int,input().split(' '))\n",
        "print(X-Y)"
      ],
      "metadata": {
        "id": "RISelEHRYviu"
      },
      "execution_count": null,
      "outputs": []
    },
    {
      "cell_type": "code",
      "source": [
        "#who is taller\n",
        "# ok your dish here\n",
        "T = int(input())\n",
        "for i in range(T):\n",
        "    X,Y = map(int,input().split(' '))\n",
        "        print(\"B\")\n",
        "    if (X<Y):\n",
        "    else:\n",
        "        print(\"A\")\n",
        "    \n"
      ],
      "metadata": {
        "id": "aBhCP2AZYvju"
      },
      "execution_count": null,
      "outputs": []
    },
    {
      "cell_type": "code",
      "source": [
        "#Enough space\n",
        "# cook your dish here\n",
        "T = int(input())\n",
        "for i in range(T):\n",
        "    N,X,Y = map(int,input().split(' '))\n",
        "    if ((X+Y*2)<=N):\n",
        "        print(\"YES\")\n",
        "    else:\n",
        "        print(\"NO\")\n"
      ],
      "metadata": {
        "id": "8ECTf4UvYvmP"
      },
      "execution_count": null,
      "outputs": []
    },
    {
      "cell_type": "code",
      "source": [
        "#Lunch-time\n",
        "# cook your dish here\n",
        "T = int(input())\n",
        "for i in range(T):\n",
        "    X = int(input())\n",
        "    if (X>=1 and X<=4):\n",
        "        print(\"YES\")\n",
        "    else:\n",
        "        print(\"No\")"
      ],
      "metadata": {
        "id": "nfAAhaLEYvn-"
      },
      "execution_count": null,
      "outputs": []
    },
    {
      "cell_type": "code",
      "source": [
        "#apple and oranges \n",
        "# cook your dish here\n",
        "X = int(input())\n",
        "A,B = map(int,input().split(' '))\n",
        "if((A+B)<=X):\n",
        "    print(\"YES\")\n",
        "else:\n",
        "    print(\"NO\")\n"
      ],
      "metadata": {
        "id": "lvXCUj3wYvpZ"
      },
      "execution_count": null,
      "outputs": []
    },
    {
      "cell_type": "code",
      "source": [
        "# The cheaper Cab\n",
        "# cook your dish here\n",
        "T=int(input())\n",
        "for i in range(T):\n",
        "    X,Y=map(int,input().split(' '))\n",
        "    if X<Y:\n",
        "        print(\"FIRST\")\n",
        "    elif X==Y:\n",
        "        print(\"ANY\")\n",
        "    else:\n",
        "        print(\"SECOND\")"
      ],
      "metadata": {
        "id": "wjSyxTbiYvrF"
      },
      "execution_count": null,
      "outputs": []
    },
    {
      "cell_type": "code",
      "source": [
        "#Determine the score\n",
        "# cook your dish here\n",
        "T = int(input())\n",
        "for i in range(T):\n",
        "    X,N = map(int,input().split(' '))\n",
        "    print(int((X/10)*N))"
      ],
      "metadata": {
        "id": "s4htOG4SYvs0"
      },
      "execution_count": null,
      "outputs": []
    },
    {
      "cell_type": "code",
      "source": [
        "#MY very 1st contest\n",
        "# cook your dish here\n",
        "N,A,B = map(int,input().split(' '))\n",
        "K=N-A\n",
        "D=K-B\n",
        "print(K,D)"
      ],
      "metadata": {
        "id": "Pq2yrkjv0rWP"
      },
      "execution_count": null,
      "outputs": []
    },
    {
      "cell_type": "code",
      "source": [
        "#Best of two\n",
        "# cook your dish here\n",
        "T = int(input())\n",
        "for i in range(T):\n",
        "    X,Y = map(int,input().split(' '))\n",
        "    print(max(X,Y))"
      ],
      "metadata": {
        "id": "8cWXhkHh0rYS"
      },
      "execution_count": null,
      "outputs": []
    },
    {
      "cell_type": "code",
      "source": [
        "#Roller Coaster\n",
        "# cook your dish here\n",
        "T = int(input())\n",
        "for i in range(T):\n",
        "    X,H = map(int,input().split(' '))\n",
        "    if(X>=H):\n",
        "        print(\"YES\")\n",
        "    else:\n",
        "        print(\"NO\")"
      ],
      "metadata": {
        "id": "48CEvlNr0rbE"
      },
      "execution_count": null,
      "outputs": []
    },
    {
      "cell_type": "code",
      "source": [
        "#Counting words\n",
        "# cook your dish here\n",
        "T = int(input())\n",
        "for i in range(T):\n",
        "    N,M = map(int,input().split(' '))\n",
        "    print(N*M)"
      ],
      "metadata": {
        "id": "hoTDnCi_0rd2"
      },
      "execution_count": null,
      "outputs": []
    },
    {
      "cell_type": "code",
      "source": [
        "#chef and brain speed \n",
        "# cook your dish here\n",
        "X,Y = map(int,input().split(' '))\n",
        "if(X<Y):\n",
        "    print(\"yes\")\n",
        "else:\n",
        "    print(\"NO\")"
      ],
      "metadata": {
        "id": "x7FG4LCV0rgD"
      },
      "execution_count": null,
      "outputs": []
    },
    {
      "cell_type": "code",
      "source": [
        "#chef on date\n",
        "# cook your dish here\n",
        "T = int(input())\n",
        "for i in range(T):\n",
        "    X,Y = map(int,input().split(' '))\n",
        "    if(X>=Y):\n",
        "        print(\"YES\")\n",
        "    else:\n",
        "        print(\"NO\")"
      ],
      "metadata": {
        "id": "_bnLTIGO0riv"
      },
      "execution_count": null,
      "outputs": []
    },
    {
      "cell_type": "code",
      "source": [
        "#total prize money\n",
        "# cook your dish here\n",
        "T = int(input())\n",
        "for i in range(T):\n",
        "    X,Y = map(int,input().split(' '))\n",
        "    print((10*X)+(90*Y))"
      ],
      "metadata": {
        "id": "hZadpm2c0rk_"
      },
      "execution_count": null,
      "outputs": []
    },
    {
      "cell_type": "code",
      "source": [
        "#Fiver \n",
        "# cook your dish here\n",
        "T = int(input())\n",
        "for i in range(T):\n",
        "    X = int(input())\n",
        "    if(X>98):\n",
        "        print(\"YES\")\n",
        "    else:\n",
        "        print(\"NO\")"
      ],
      "metadata": {
        "id": "3EH-c93w0rnc"
      },
      "execution_count": null,
      "outputs": []
    },
    {
      "cell_type": "code",
      "source": [
        "#broken phone\n",
        "# cook your dish here\n",
        "T = int(input())\n",
        "for i in range(T):\n",
        "    X,Y = map(int,input().split(' '))\n",
        "    if (X<Y):\n",
        "        print(\"REPAIR\")\n",
        "    elif(X>Y):\n",
        "        print(\"NEW PHONE\")\n",
        "    else:\n",
        "        print(\"ANY\")"
      ],
      "metadata": {
        "id": "01MCwQHO0rqG"
      },
      "execution_count": null,
      "outputs": []
    },
    {
      "cell_type": "code",
      "source": [
        "#Chairs required\n",
        "# cook your dish here\n",
        "T = int(input())\n",
        "for i in range(T):\n",
        "    X,Y = map(int,input().split(' '))\n",
        "    if(X<Y):\n",
        "        print(0)\n",
        "    else:\n",
        "        print(X-Y)\n",
        "    "
      ],
      "metadata": {
        "id": "JQGtqtZc0rsf"
      },
      "execution_count": null,
      "outputs": []
    },
    {
      "cell_type": "code",
      "source": [
        "#second max number \n",
        "# cook your dish here\n",
        "T = int(input())\n",
        "for i in range(T):\n",
        "    X = list(map(int,input().split(' ')))\n",
        "    X.sort()\n",
        "    print(X[-2])\n",
        "    "
      ],
      "metadata": {
        "id": "J1AwoiPv0rvQ"
      },
      "execution_count": null,
      "outputs": []
    },
    {
      "cell_type": "code",
      "source": [],
      "metadata": {
        "id": "xb5Zf_XM0rxr"
      },
      "execution_count": null,
      "outputs": []
    },
    {
      "cell_type": "code",
      "source": [],
      "metadata": {
        "id": "rGLm-qBS0r0W"
      },
      "execution_count": null,
      "outputs": []
    },
    {
      "cell_type": "code",
      "source": [],
      "metadata": {
        "id": "3byCz4QH0r2-"
      },
      "execution_count": null,
      "outputs": []
    },
    {
      "cell_type": "code",
      "source": [],
      "metadata": {
        "id": "7BJ6y01o0r5r"
      },
      "execution_count": null,
      "outputs": []
    },
    {
      "cell_type": "code",
      "source": [],
      "metadata": {
        "id": "_TmVmlOg0r8a"
      },
      "execution_count": null,
      "outputs": []
    },
    {
      "cell_type": "code",
      "source": [],
      "metadata": {
        "id": "J-lEHoc_0r-8"
      },
      "execution_count": null,
      "outputs": []
    },
    {
      "cell_type": "code",
      "source": [],
      "metadata": {
        "id": "Wa8FjINL0sBp"
      },
      "execution_count": null,
      "outputs": []
    },
    {
      "cell_type": "code",
      "source": [],
      "metadata": {
        "id": "BnfqoSq40sEJ"
      },
      "execution_count": null,
      "outputs": []
    },
    {
      "cell_type": "code",
      "source": [],
      "metadata": {
        "id": "F7P21pd10sGw"
      },
      "execution_count": null,
      "outputs": []
    },
    {
      "cell_type": "code",
      "source": [],
      "metadata": {
        "id": "2kYPEkMd0sJc"
      },
      "execution_count": null,
      "outputs": []
    },
    {
      "cell_type": "code",
      "source": [],
      "metadata": {
        "id": "M_errAgA0sMx"
      },
      "execution_count": null,
      "outputs": []
    },
    {
      "cell_type": "code",
      "source": [],
      "metadata": {
        "id": "-19NOa_2Yvt-"
      },
      "execution_count": null,
      "outputs": []
    },
    {
      "cell_type": "code",
      "source": [],
      "metadata": {
        "id": "KjalDgxkYvwh"
      },
      "execution_count": null,
      "outputs": []
    },
    {
      "cell_type": "code",
      "source": [],
      "metadata": {
        "id": "VjCgJCWfYvyQ"
      },
      "execution_count": null,
      "outputs": []
    },
    {
      "cell_type": "code",
      "source": [],
      "metadata": {
        "id": "UlWD0kcHYvzj"
      },
      "execution_count": null,
      "outputs": []
    },
    {
      "cell_type": "code",
      "source": [],
      "metadata": {
        "id": "qib3ASgrYv1o"
      },
      "execution_count": null,
      "outputs": []
    },
    {
      "cell_type": "code",
      "source": [],
      "metadata": {
        "id": "-dcpQ5CDYv4l"
      },
      "execution_count": null,
      "outputs": []
    },
    {
      "cell_type": "code",
      "source": [],
      "metadata": {
        "id": "KkcJQSTiYv6_"
      },
      "execution_count": null,
      "outputs": []
    },
    {
      "cell_type": "code",
      "source": [],
      "metadata": {
        "id": "IVtIXpXiYv-N"
      },
      "execution_count": null,
      "outputs": []
    },
    {
      "cell_type": "code",
      "source": [],
      "metadata": {
        "id": "EJzV_HBdYwA6"
      },
      "execution_count": null,
      "outputs": []
    }
  ]
}