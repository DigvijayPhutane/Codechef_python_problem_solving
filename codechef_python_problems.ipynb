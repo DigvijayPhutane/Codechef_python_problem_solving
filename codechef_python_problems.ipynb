{
  "nbformat": 4,
  "nbformat_minor": 0,
  "metadata": {
    "colab": {
      "provenance": [],
      "collapsed_sections": [],
      "authorship_tag": "ABX9TyP4BLD6mZ1ooezvHEg/p5lf",
      "include_colab_link": true
    },
    "kernelspec": {
      "name": "python3",
      "display_name": "Python 3"
    },
    "language_info": {
      "name": "python"
    }
  },
  "cells": [
    {
      "cell_type": "markdown",
      "metadata": {
        "id": "view-in-github",
        "colab_type": "text"
      },
      "source": [
        "<a href=\"https://colab.research.google.com/github/DigvijayPhutane/Codechef_python_problem_solving/blob/main/codechef_python_problems.ipynb\" target=\"_parent\"><img src=\"https://colab.research.google.com/assets/colab-badge.svg\" alt=\"Open In Colab\"/></a>"
      ]
    },
    {
      "cell_type": "markdown",
      "source": [
        "# NUMBER OF CREDITS PROBLEM DIFF LEVEL 306\n",
        "Problem\n",
        "In the current semester, you have taken X RTP courses, Y Audit courses and Z Non-RTP courses.\n",
        "\n",
        "The credit distribution for the courses are:\n",
        "4 credits for clearing each RTP course.\n",
        "2 credits for clearing each Audit course.\n",
        "No credits for clearing a Non-RTP course.\n",
        "Assuming that you cleared all your courses, report the number of credits you obtain this semester.\n",
        "\n",
        "Input Format\n",
        "The first line contains a single integer T, the number of test cases. TT test cases follow. Each test case consists of one line, containing 3 integers separated by spaces.\n",
        "The first integer is X, the number of RTP courses.\n",
        "The second integer is Y, the number of Audit courses.\n",
        "The third integer is Z, the number of non-RTP courses.\n",
        "Output Format\n",
        "The output must consist of T lines. The ith\n",
        "  should consist of a single integer: the number of credits one gets for the ith\n",
        "  test case.\n",
        "  Input\n",
        "\n",
        "4\n",
        "6 6 5\n",
        "8 7 2\n",
        "9 3 8\n",
        "9 2 4\n",
        "output\n",
        "36\n",
        "46\n",
        "42\n",
        "40\n",
        "\n"
      ],
      "metadata": {
        "id": "eIEfRMgj_moR"
      }
    },
    {
      "cell_type": "code",
      "source": [
        "T = int(input())\n",
        "for i in range(T):\n",
        "    X,Y,Z = map(int,input().split(' '))\n",
        "    A = X * 4 \n",
        "    B = Y * 2 \n",
        "    C = Z * 0\n",
        "    print(A+B+C)"
      ],
      "metadata": {
        "id": "DPdgZ-7zAwfI"
      },
      "execution_count": null,
      "outputs": []
    }
  ]
}