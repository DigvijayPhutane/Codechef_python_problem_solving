{
  "nbformat": 4,
  "nbformat_minor": 0,
  "metadata": {
    "colab": {
      "provenance": [],
      "collapsed_sections": [],
      "authorship_tag": "ABX9TyMlPN9znsCq4lgh+AvP3Aee",
      "include_colab_link": true
    },
    "kernelspec": {
      "name": "python3",
      "display_name": "Python 3"
    },
    "language_info": {
      "name": "python"
    }
  },
  "cells": [
    {
      "cell_type": "markdown",
      "metadata": {
        "id": "view-in-github",
        "colab_type": "text"
      },
      "source": [
        "<a href=\"https://colab.research.google.com/github/DigvijayPhutane/Codechef_python_problem_solving/blob/main/codechef_python_problems.ipynb\" target=\"_parent\"><img src=\"https://colab.research.google.com/assets/colab-badge.svg\" alt=\"Open In Colab\"/></a>"
      ]
    },
    {
      "cell_type": "markdown",
      "source": [
        "# NUMBER OF CREDITS PROBLEM DIFF LEVEL 306\n",
        "Problem\n",
        "In the current semester, you have taken X RTP courses, Y Audit courses and Z Non-RTP courses.\n",
        "\n",
        "The credit distribution for the courses are:\n",
        "4 credits for clearing each RTP course.\n",
        "2 credits for clearing each Audit course.\n",
        "No credits for clearing a Non-RTP course.\n",
        "Assuming that you cleared all your courses, report the number of credits you obtain this semester.\n",
        "\n",
        "Input Format\n",
        "The first line contains a single integer T, the number of test cases. TT test cases follow. Each test case consists of one line, containing 3 integers separated by spaces.\n",
        "The first integer is X, the number of RTP courses.\n",
        "The second integer is Y, the number of Audit courses.\n",
        "The third integer is Z, the number of non-RTP courses.\n",
        "Output Format\n",
        "The output must consist of T lines. The ith\n",
        "  should consist of a single integer: the number of credits one gets for the ith\n",
        "  test case.\n",
        "  Input\n",
        "\n",
        "4\n",
        "6 6 5\n",
        "8 7 2\n",
        "9 3 8\n",
        "9 2 4\n",
        "output\n",
        "36\n",
        "46\n",
        "42\n",
        "40\n",
        "\n"
      ],
      "metadata": {
        "id": "eIEfRMgj_moR"
      }
    },
    {
      "cell_type": "code",
      "source": [
        "T = int(input())\n",
        "for i in range(T):\n",
        "    X,Y,Z = map(int,input().split(' '))\n",
        "    A = X * 4 \n",
        "    B = Y * 2 \n",
        "    C = Z * 0\n",
        "    print(A+B+C)"
      ],
      "metadata": {
        "id": "DPdgZ-7zAwfI"
      },
      "execution_count": null,
      "outputs": []
    },
    {
      "cell_type": "markdown",
      "source": [
        "On a certain train, Chef-the ticket collector, collects a fine of Rs. X if a passenger is travelling without a ticket. It is known that a passenger carries either a single ticket or no ticket.\n",
        "\n",
        "P passengers are travelling and they have a total of Q tickets. Help Chef calculate the total fine collected.\n",
        "\n",
        "Input Format\n",
        "The first line contains a single integer T, the number of test cases. T lines follow. Each following line contains three integers separated by spaces, whose description follows.\n",
        "\n",
        "The first integer, X, is the fee in rupees.\n",
        "The second integer, P, is the number of passengers on the train.\n",
        "The third integer, Q, is the number of tickets Chef collected.\n",
        "Output Format\n",
        "The output must consist of T lines.\n",
        "\n",
        "The i^{th}i \n",
        "th\n",
        "  line must contain a single integer, the total money(in rupees) collected by Chef corresponding to the i^{th}i \n",
        "th\n",
        "  test case.\n",
        "  Explanation:\n",
        "Test case 1: The total number of passengers travelling without ticket are 1 - 1 = 0. So the total fine collected is 0*4 = 0 rupees.\n",
        "Test case 2: The total number of passengers travelling without ticket are 10−7=3. So the total fine collected is 3*2=6 rupees."
      ],
      "metadata": {
        "id": "HJIxaIPuEa71"
      }
    },
    {
      "cell_type": "code",
      "source": [
        "T = int(input())\n",
        "for i in range(T):\n",
        "    X,P,Q = map(int,input().split(' '))\n",
        "    W = P - Q\n",
        "    F = W*X \n",
        "    print(F)"
      ],
      "metadata": {
        "id": "ybep5iq3E1aD"
      },
      "execution_count": null,
      "outputs": []
    },
    {
      "cell_type": "code",
      "source": [
        "#CAR Trip problem\n",
        "# cook your dish here\n",
        "T = int(input())\n",
        "for i in range(T):\n",
        "    x = int(input())\n",
        "    if(x<=300):\n",
        "        print(300*10)\n",
        "    else:\n",
        "        print(x*10)"
      ],
      "metadata": {
        "id": "-JIMWd3Ek9ne"
      },
      "execution_count": null,
      "outputs": []
    },
    {
      "cell_type": "code",
      "source": [
        "#Ticket Fine\n",
        "T = int(input())\n",
        "for i in range(T):\n",
        "    X,P,Q = map(int,input().split(' '))\n",
        "    W = P - Q\n",
        "    F = W*X \n",
        "    print(F)"
      ],
      "metadata": {
        "id": "QhtoG0xzYBk1"
      },
      "execution_count": null,
      "outputs": []
    },
    {
      "cell_type": "code",
      "source": [
        "#Car trip \n",
        "# cook your dish here\n",
        "T = int(input())\n",
        "for i in range(T):\n",
        "    x = int(input())\n",
        "    if(x<=300):\n",
        "        print(300*10)\n",
        "    else:\n",
        "        print(x*10)"
      ],
      "metadata": {
        "id": "iVy-lCz2YJOF"
      },
      "execution_count": null,
      "outputs": []
    },
    {
      "cell_type": "code",
      "source": [
        "#Greater Average\n",
        "# cook your dish here\n",
        "T = int(input())\n",
        "for i in range(T):\n",
        "    A,B,C  = map(int,input().split())\n",
        "    if ((A+B)/2> C):\n",
        "        print(\"YES\")\n",
        "    else:\n",
        "        print(\"NO\")"
      ],
      "metadata": {
        "id": "z_nttVZUYJPQ"
      },
      "execution_count": null,
      "outputs": []
    },
    {
      "cell_type": "code",
      "source": [
        "#Weights\n",
        "# cook your dish here\n",
        "\n",
        "T = int(input())\n",
        "for i in range(T):\n",
        "    W,X,Y,Z = map(int,input().split(' '))\n",
        "    if(W==X+Y or W==Y+Z or W==X+Z or W==X+Y+Z or W==X or W==Y or W==Z):\n",
        "        print(\"YES\")\n",
        "    else:\n",
        "        print(\"NO\")\n",
        "        "
      ],
      "metadata": {
        "id": "vJl-TdipYozq"
      },
      "execution_count": null,
      "outputs": []
    },
    {
      "cell_type": "code",
      "source": [
        "#add to numbers \n",
        "# You don't need to add/edit anything to the below solution. \n",
        "# Click on the SUBMIT button to solve your first problem on CodeChef.\n",
        "\n",
        "#Read the number of test cases.\n",
        "T = int(input())\n",
        "for i in range(T):\n",
        "\t# Read integers a and b.\n",
        "\t(a, b) = map(int, input().split(' '))\n",
        "\t\n",
        "\tans = a + b\n",
        "\tprint(ans)"
      ],
      "metadata": {
        "id": "U1TTWaRlYo0v"
      },
      "execution_count": null,
      "outputs": []
    },
    {
      "cell_type": "code",
      "source": [
        "#Age limit \n",
        "# cook your dish here\n",
        "t = int(input())\n",
        "for i in range(t):\n",
        "    X,Y,A = map(int,input().split(' '))\n",
        "    if(X<=A and Y>A):\n",
        "        print(\"YES\")\n",
        "    else:\n",
        "        print(\"NO\")"
      ],
      "metadata": {
        "id": "DAHIhtb5YvWn"
      },
      "execution_count": null,
      "outputs": []
    },
    {
      "cell_type": "code",
      "source": [
        "#Biryani Classes \n",
        "# cook your dish here\n",
        "\n",
        "T = int(input())\n",
        "for i in range(T):\n",
        "    X,Y = map(int,input().split(' '))\n",
        "    print(X*Y)      "
      ],
      "metadata": {
        "id": "8c12KhZyYvYQ"
      },
      "execution_count": null,
      "outputs": []
    },
    {
      "cell_type": "code",
      "source": [
        "#fitness\n",
        "# cook your dish here\n",
        "T = int(input())\n",
        "for i in range(T):\n",
        "    X = int(input())\n",
        "    print(X*2*5)"
      ],
      "metadata": {
        "id": "ydDXey8rYvZl"
      },
      "execution_count": null,
      "outputs": []
    },
    {
      "cell_type": "code",
      "source": [
        "#BURGERS\n",
        "# cook your dish here\n",
        "T = int(input())\n",
        "for i in range(T):\n",
        "    A,B = map(int,input().split())\n",
        "    print(min(A,B))"
      ],
      "metadata": {
        "id": "Q6B4klUVYvd5"
      },
      "execution_count": null,
      "outputs": []
    },
    {
      "cell_type": "code",
      "source": [
        "#HOW MANY UNATTEMPTED PROBLEMS\n",
        "# cook your dish here\n",
        "X,Y = map(int,input().split(' '))\n",
        "print(X-Y)"
      ],
      "metadata": {
        "id": "RISelEHRYviu"
      },
      "execution_count": null,
      "outputs": []
    },
    {
      "cell_type": "code",
      "source": [
        "#who is taller\n",
        "# ok your dish here\n",
        "T = int(input())\n",
        "for i in range(T):\n",
        "    X,Y = map(int,input().split(' '))\n",
        "        print(\"B\")\n",
        "    if (X<Y):\n",
        "    else:\n",
        "        print(\"A\")\n",
        "    \n"
      ],
      "metadata": {
        "id": "aBhCP2AZYvju"
      },
      "execution_count": null,
      "outputs": []
    },
    {
      "cell_type": "code",
      "source": [
        "#Enough space\n",
        "# cook your dish here\n",
        "T = int(input())\n",
        "for i in range(T):\n",
        "    N,X,Y = map(int,input().split(' '))\n",
        "    if ((X+Y*2)<=N):\n",
        "        print(\"YES\")\n",
        "    else:\n",
        "        print(\"NO\")\n"
      ],
      "metadata": {
        "id": "8ECTf4UvYvmP"
      },
      "execution_count": null,
      "outputs": []
    },
    {
      "cell_type": "code",
      "source": [
        "#Lunch-time\n",
        "# cook your dish here\n",
        "T = int(input())\n",
        "for i in range(T):\n",
        "    X = int(input())\n",
        "    if (X>=1 and X<=4):\n",
        "        print(\"YES\")\n",
        "    else:\n",
        "        print(\"No\")"
      ],
      "metadata": {
        "id": "nfAAhaLEYvn-"
      },
      "execution_count": null,
      "outputs": []
    },
    {
      "cell_type": "code",
      "source": [
        "#apple and oranges \n",
        "# cook your dish here\n",
        "X = int(input())\n",
        "A,B = map(int,input().split(' '))\n",
        "if((A+B)<=X):\n",
        "    print(\"YES\")\n",
        "else:\n",
        "    print(\"NO\")\n"
      ],
      "metadata": {
        "id": "lvXCUj3wYvpZ"
      },
      "execution_count": null,
      "outputs": []
    },
    {
      "cell_type": "code",
      "source": [
        "# The cheaper Cab\n",
        "# cook your dish here\n",
        "T=int(input())\n",
        "for i in range(T):\n",
        "    X,Y=map(int,input().split(' '))\n",
        "    if X<Y:\n",
        "        print(\"FIRST\")\n",
        "    elif X==Y:\n",
        "        print(\"ANY\")\n",
        "    else:\n",
        "        print(\"SECOND\")"
      ],
      "metadata": {
        "id": "wjSyxTbiYvrF"
      },
      "execution_count": null,
      "outputs": []
    },
    {
      "cell_type": "code",
      "source": [],
      "metadata": {
        "id": "s4htOG4SYvs0"
      },
      "execution_count": null,
      "outputs": []
    },
    {
      "cell_type": "code",
      "source": [],
      "metadata": {
        "id": "-19NOa_2Yvt-"
      },
      "execution_count": null,
      "outputs": []
    },
    {
      "cell_type": "code",
      "source": [],
      "metadata": {
        "id": "KjalDgxkYvwh"
      },
      "execution_count": null,
      "outputs": []
    },
    {
      "cell_type": "code",
      "source": [],
      "metadata": {
        "id": "VjCgJCWfYvyQ"
      },
      "execution_count": null,
      "outputs": []
    },
    {
      "cell_type": "code",
      "source": [],
      "metadata": {
        "id": "UlWD0kcHYvzj"
      },
      "execution_count": null,
      "outputs": []
    },
    {
      "cell_type": "code",
      "source": [],
      "metadata": {
        "id": "qib3ASgrYv1o"
      },
      "execution_count": null,
      "outputs": []
    },
    {
      "cell_type": "code",
      "source": [],
      "metadata": {
        "id": "-dcpQ5CDYv4l"
      },
      "execution_count": null,
      "outputs": []
    },
    {
      "cell_type": "code",
      "source": [],
      "metadata": {
        "id": "KkcJQSTiYv6_"
      },
      "execution_count": null,
      "outputs": []
    },
    {
      "cell_type": "code",
      "source": [],
      "metadata": {
        "id": "IVtIXpXiYv-N"
      },
      "execution_count": null,
      "outputs": []
    },
    {
      "cell_type": "code",
      "source": [],
      "metadata": {
        "id": "EJzV_HBdYwA6"
      },
      "execution_count": null,
      "outputs": []
    }
  ]
}